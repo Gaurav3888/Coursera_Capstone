{
 "cells": [
  {
   "cell_type": "markdown",
   "metadata": {},
   "source": [
    "### Business Problem For the Final Assignment of Course9"
   ]
  },
  {
   "cell_type": "markdown",
   "metadata": {},
   "source": [
    "## Indroduction"
   ]
  },
  {
   "cell_type": "markdown",
   "metadata": {},
   "source": [
    "\n",
    "\n"
   ]
  },
  {
   "cell_type": "markdown",
   "metadata": {},
   "source": [
    "Gavin is a renounced food blogger from Ohio Canada, he has heard about the various african and afghan restraunts in New York, He wants to explore few of the restraunts in Newyork, As he is not having inflated time for his visit he is looking for a automated system which could give him count of Afghan and African restraunts in each of the 5 broughs of the new york which we have already gone thorugh in one of the lab assignemnts.\n",
    "As a part of the assignemnt we will be leveraging on the data awailable over the net for the5 boroughs and the various neighbourhoods present in it. \n",
    "The End Report willgive gavin the individual count of Afghan and African restraunts in each of the 5 boroughs and also the details of few restraunts from the first 2 boroughs with the maximum number of African and Afghan Restraunts Cummulative.\n",
    "This Automation will help Gavin in planning his short business visit to **New York**"
   ]
  },
  {
   "cell_type": "markdown",
   "metadata": {},
   "source": [
    "## DATA"
   ]
  },
  {
   "cell_type": "markdown",
   "metadata": {},
   "source": [
    "1. Source data will be copied from the web , the assignement will be leveraging on the data of the 5 boroughs and 306 neighbourhood used in the lab assignemnt of week3\n",
    "URL: https://geo.nyu.edu/catalog/nyu_2451_34572\n",
    "2. Post the Data is downloaded it will be conveted in to panda Dataframe using the python libraries\n",
    "3. Once we have the Borough and the verious Neighbourhood with lattitude and Longitude, then 5 different daframe will be created for each borough example one for manhattan, other for bronx etc\n",
    "4. Foursquare API , Explore method will be leveraged to get all the venues for each neighbourhood\n",
    "5. Raw Result from the API will be processed using the python libraries and for each borough a dataframe will be created which will have the following properties\n",
    "   a) Borough\n",
    "   b) VenueName\n",
    "   c)Neighbourhood\n",
    "   d)Category\n",
    "6. Using Pandas group by functionality we will fetch the number of African and Afghani restraunts in each borough\n",
    "   For example Manhattan has 20 such restrunts\n",
    "7. List of Boroughs in descending order of number African and Afghani restruants will be Published\n",
    "8. For the First 2 Boroughs with the maximum number of such restraunts  for one restraunt from each borough a      review of the restraunts will also be fetched using the four square API\n"
   ]
  }
 ],
 "metadata": {
  "kernelspec": {
   "display_name": "Python 3",
   "language": "python",
   "name": "python3"
  },
  "language_info": {
   "codemirror_mode": {
    "name": "ipython",
    "version": 3
   },
   "file_extension": ".py",
   "mimetype": "text/x-python",
   "name": "python",
   "nbconvert_exporter": "python",
   "pygments_lexer": "ipython3",
   "version": "3.6.7"
  }
 },
 "nbformat": 4,
 "nbformat_minor": 4
}
