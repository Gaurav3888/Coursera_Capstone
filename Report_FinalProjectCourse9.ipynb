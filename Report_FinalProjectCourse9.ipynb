{
 "cells": [
  {
   "cell_type": "markdown",
   "metadata": {},
   "source": [
    "### Business Problem For the Final Assignment of Course9"
   ]
  },
  {
   "cell_type": "markdown",
   "metadata": {},
   "source": [
    "## Indroduction"
   ]
  },
  {
   "cell_type": "markdown",
   "metadata": {},
   "source": [
    "\n",
    "\n"
   ]
  },
  {
   "cell_type": "markdown",
   "metadata": {},
   "source": [
    "Gavin is a renounced food blogger from Ohio Canada, he has heard about the various african and afghan restraunts in New York, He wants to explore few of the restraunts in Newyork, As he is not having inflated time for his visit he is looking for a automated system which could give him count of Afghan and African restraunts in each of the 5 broughs of the new york which we have already gone thorugh in one of the lab assignemnts.\n",
    "As a part of the assignemnt we will be leveraging on the data awailable over the net for the5 boroughs and the various neighbourhoods present in it. \n",
    "The End Report willgive gavin the individual count of Afghan and African restraunts in each of the 5 boroughs and also the details of few restraunts from the first 2 boroughs with the maximum number of African and Afghan Restraunts Cummulative.\n",
    "This Automation will help Gavin in planning his short business visit to **New York**"
   ]
  },
  {
   "cell_type": "markdown",
   "metadata": {},
   "source": [
    "## DATA"
   ]
  },
  {
   "cell_type": "markdown",
   "metadata": {},
   "source": [
    "\n"
   ]
  },
  {
   "cell_type": "markdown",
   "metadata": {},
   "source": [
    "1. Source data will be copied from the web , the assignement will be leveraging on the data of the 5 boroughs and 306 neighbourhood used in the lab assignemnt of week3\n",
    "URL: https://geo.nyu.edu/catalog/nyu_2451_34572\n",
    "2. Post the Data is downloaded it will be conveted in to panda Dataframe using the python libraries\n",
    "3. Once we have the Borough and the verious Neighbourhood with lattitude and Longitude, then 5 different daframe will be created for each borough example one for manhattan, other for bronx etc\n",
    "4. Foursquare API , Explore method will be leveraged to get all the venues for each neighbourhood\n",
    "5. Raw Result from the API will be processed using the python libraries and for each borough a dataframe will be created which will have the following properties\n",
    "   a) Borough\n",
    "   b) VenueName\n",
    "   c)Neighbourhood\n",
    "   d)Category\n",
    "6. Using Pandas group by functionality we will fetch the number of African and Afghani restraunts in each borough\n",
    "   For example Manhattan has 20 such restrunts\n",
    "7. List of Boroughs in descending order of number African and Afghani restruants will be Published\n",
    "8. For the First 2 Boroughs with the maximum number of such restraunts  for one restraunt from each borough a      review of the restraunts will also be fetched using the four square API\n"
   ]
  },
  {
   "cell_type": "markdown",
   "metadata": {},
   "source": [
    "## Methodology"
   ]
  },
  {
   "cell_type": "markdown",
   "metadata": {},
   "source": [
    "<div>\n",
    "1. For finding the correct order of boroughs present in New York so that Gavin can cover almost all the Afghan and African Restraunts. We leveraged the neighbourhood data used in the one of the lab assignments<br/>\n",
    "Sourcl URL: https://geo.nyu.edu/catalog/nyu_2451_34572<br/>\n",
    "2. Using the Data mentioned above a Python Pandas Dataframe was created, the dataframe consisted of the following columns (Borough,NeighBourhood,Lattitude,Longitude)<br/>\n",
    "3. The Master Data obtained in Step 2 was segreagted in to 5 different Pandas Data frame one for each borough, mentioned below are the names of the Dataframe for each borough which contained the neighbourhood data for respective boroughs<br/>\n",
    "    a)   Bronx_nhood<br/>\n",
    "    b)   Manhattan_nhood<br/>\n",
    "    c)   Brooklyn_nhood<br/>\n",
    "    d)   Queens_nhood<br/>\n",
    "    e)   Staten_nhood<br/>\n",
    "4. FourSquareAPI as introduced in the Lab2 Assignment of the course were instantiated with the approriate client id and Secret Key<br/>\n",
    "5. A python Functions were created with the name \"getNearbyVenues\", it was passed few inputs , the function iteratively called the Four Square API for fetching the various venues for the Neighbourhood Lattitude and Longitude and returned a borough specific dataframe which contains the details of the various venues in the borough<br/>\n",
    "    <b>List of Inputs</b><br/>\n",
    "    borough: Name of the Borough whose neighborhood venues are getting fetched(Normal String)<br/>\n",
    "    Neighbourhood: Names of the various borough specific Neighborhood<br/>\n",
    "    Lattitude: Lattitude of the Neighbourhood<br/>\n",
    "    Longitude: Longitude of the Neighbourhood<br/>\n",
    "    <b>Output</b><br/>\n",
    "    A dataFrame consisting of the details of the venues for a borough<br/>\n",
    "6. The Function created in the Step 5 is called 5 times for each borough and then using the pandas dataframe existing ability to slice the datframe for each borough the vnues whose category was eith African Restaurant or Afghan Restaurant were identified. Mentioned below are the names of the DataFrames in the code<br/>\n",
    "    Queens_venues_AfroAfghan<br/>\n",
    "    Brooklyn_venues_AfroAfghan<br/>\n",
    "    Staten_venues_AfroAfghan<br/>\n",
    "    Manhattan_venues_AfroAfghan<br/>\n",
    "    Bronx_venues_AfroAfghan<br/>\n",
    "7. Using the Dataframe created and explained in the Step 6, final matrix was created using the python data structure Dataframe which comprised of below three Columns<br/>\n",
    "    a) Borough<br/>\n",
    "    b) No Of African Restaurant<br/>\n",
    "    c) No Of Afghan Restaurant<br/>\n",
    "8. Gavin will be advised to travel to the borough which is having the maximum number of African and Afghan Restruants.<br/>\n",
    "9. As a part of the assignments we leveraged on the FourSquare API exposed for fetching the details of a specific venue by using the Search Method of the Four Square API<br/>\n",
    "10. The Ratings and a Tip/review for 2 restraunts were also fetched for giving Gavin an idea of the Restruants <br/>\n",
    "    <b>Details of the Restruants</b><br/>\n",
    "        a)  Africa Kine Restraunt --> Manhattan<br/>\n",
    "        b)  Bakhter Afghan Halal Kababs Restaurant-->Queens<br/>\n",
    "</div>"
   ]
  },
  {
   "cell_type": "markdown",
   "metadata": {},
   "source": [
    "## Results"
   ]
  },
  {
   "cell_type": "markdown",
   "metadata": {},
   "source": [
    "The Objective of the assignment was to provide Gavin the food blogger with a matrix whih gives the count of African and Afghan Restaurants in each of the 5 boroughs.\n",
    "Below Matrix provides the same"
   ]
  },
  {
   "cell_type": "markdown",
   "metadata": {},
   "source": [
    "<table>\n",
    "    <tr>\n",
    "    <th>Borough</th>  \n",
    "    <th>No_African_Restaurant</th>  \n",
    "    <th>No_Afghan_Restaurant</th>\n",
    "    </tr>\n",
    "    <tr>\n",
    "    <td>Queens</td> \n",
    "    <td>0</td>\n",
    "    <td>2</td>\n",
    "    </tr>\n",
    "    <tr>\n",
    "    <td>Brooklyn</td> \n",
    "    <td>0</td>\n",
    "    <td>0</td>\n",
    "    </tr>\n",
    "    <tr>\n",
    "    <td>Staten island</td> \n",
    "    <td>0</td>\n",
    "    <td>0</td>\n",
    "    </tr>\n",
    "    <tr>\n",
    "    <td>Manhattan</td> \n",
    "    <td>3</td>\n",
    "    <td>1</td>\n",
    "    </tr>\n",
    "    <tr>\n",
    "    <td>Bronx </td> \n",
    "    <td>2</td>\n",
    "    <td>0</td>\n",
    "    </tr>\n",
    "</table>"
   ]
  },
  {
   "cell_type": "markdown",
   "metadata": {},
   "source": [
    "## Discussion "
   ]
  },
  {
   "cell_type": "markdown",
   "metadata": {},
   "source": [
    "As manhattan borough tops the chart with maximum number of African and Afgahn Restaurants hence Gavin would be going to manhattan first. \n",
    "Also from the count of venues manhattan seems to be a business hub for New York and it will be must to explore for all the food bloggers visitng New York"
   ]
  },
  {
   "cell_type": "markdown",
   "metadata": {},
   "source": [
    "## Conclusion"
   ]
  },
  {
   "cell_type": "markdown",
   "metadata": {},
   "source": [
    "As the Problem Statement was to provide Gavin with the list of boroughs in the descending order of the count of African and Afghan Restaurants.\n",
    "Below if the list and the order of the Boroughs which Gavin should plan to visit<br/>\n",
    "<span style=\"background-color:#8ebf42\"><b>Manhattan<br></b></span>\n",
    "<span style=\"background-color:#8ebf42\"><b>Queeens(only Afghan)<br></b></span>\n",
    "<span style=\"background-color:#8ebf42\"><b>Bronx(only African)<br></b></span>"
   ]
  }
 ],
 "metadata": {
  "kernelspec": {
   "display_name": "Python 3",
   "language": "python",
   "name": "python3"
  },
  "language_info": {
   "codemirror_mode": {
    "name": "ipython",
    "version": 3
   },
   "file_extension": ".py",
   "mimetype": "text/x-python",
   "name": "python",
   "nbconvert_exporter": "python",
   "pygments_lexer": "ipython3",
   "version": "3.6.7"
  }
 },
 "nbformat": 4,
 "nbformat_minor": 4
}
