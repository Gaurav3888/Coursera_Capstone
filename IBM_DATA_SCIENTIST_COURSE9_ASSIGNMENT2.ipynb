{
    "nbformat_minor": 1, 
    "cells": [
        {
            "source": "# Importing the relevant libraries\n### Importing pandas library\n### Importing Beautisoup for webscraping", 
            "cell_type": "markdown", 
            "metadata": {
                "collapsed": true
            }
        }, 
        {
            "execution_count": 1, 
            "cell_type": "code", 
            "metadata": {}, 
            "outputs": [
                {
                    "output_type": "stream", 
                    "name": "stdout", 
                    "text": "Relevant libraries imported!!!\n"
                }
            ], 
            "source": "import pandas as pd\nimport bs4 as bs\nimport requests as req\nprint(\"Relevant libraries imported!!!\")"
        }, 
        {
            "source": "### Webscrping the linkedin page for fetching the values", 
            "cell_type": "markdown", 
            "metadata": {}
        }, 
        {
            "execution_count": 2, 
            "cell_type": "code", 
            "metadata": {}, 
            "outputs": [], 
            "source": "WebPageResult = req.get('https://en.wikipedia.org/wiki/List_of_postal_codes_of_Canada:_M')\n"
        }, 
        {
            "source": "### Fetching the table contents of the wikipedia page in to a beautiful soup variable", 
            "cell_type": "markdown", 
            "metadata": {}
        }, 
        {
            "execution_count": 3, 
            "cell_type": "code", 
            "metadata": {}, 
            "outputs": [], 
            "source": "bsvar = bs.BeautifulSoup(WebPageResult.text)\ncanadaDataTable = bsvar.find('table',class_='wikitable sortable')\n\n   \n"
        }, 
        {
            "source": "### Defining the Pandas Data Frame Structure", 
            "cell_type": "markdown", 
            "metadata": {}
        }, 
        {
            "execution_count": 4, 
            "cell_type": "code", 
            "metadata": {}, 
            "outputs": [
                {
                    "execution_count": 4, 
                    "metadata": {}, 
                    "data": {
                        "text/html": "<div>\n<style scoped>\n    .dataframe tbody tr th:only-of-type {\n        vertical-align: middle;\n    }\n\n    .dataframe tbody tr th {\n        vertical-align: top;\n    }\n\n    .dataframe thead th {\n        text-align: right;\n    }\n</style>\n<table border=\"1\" class=\"dataframe\">\n  <thead>\n    <tr style=\"text-align: right;\">\n      <th></th>\n      <th>PostalCode</th>\n      <th>Borough</th>\n      <th>Neighborhood</th>\n    </tr>\n  </thead>\n  <tbody>\n  </tbody>\n</table>\n</div>", 
                        "text/plain": "Empty DataFrame\nColumns: [PostalCode, Borough, Neighborhood]\nIndex: []"
                    }, 
                    "output_type": "execute_result"
                }
            ], 
            "source": "column_names = ['PostalCode','Borough','Neighborhood']\nCanadaDataFrame = pd.DataFrame(columns=column_names)\nCanadaDataFrame.head()"
        }, 
        {
            "source": "### Logic of Populating the Dataframe from the Web scraped wikipedia page", 
            "cell_type": "markdown", 
            "metadata": {}
        }, 
        {
            "execution_count": 6, 
            "cell_type": "code", 
            "metadata": {}, 
            "outputs": [], 
            "source": "columnIdentifier = 0\nfor column in canadaDataTable.find_all('td'):\n    columnIdentifier = columnIdentifier + 1\n    if columnIdentifier == 1:\n        PostalCode = column.text\n    elif columnIdentifier == 2:\n        Borough = column.text \n    else:\n        columnIdentifier = 0\n        if Borough != 'Not assigned':  \n            Neighbourhood = column.text\n            Neighbourhood = Neighbourhood[:-1]\n            if Neighbourhood == 'Not assigned':\n                Neighbourhood = Borough\n            CheckPostalCode = CanadaDataFrame[CanadaDataFrame['PostalCode'] == PostalCode]\n            if CheckPostalCode['Neighborhood'].empty:                \n                CanadaDataFrame = CanadaDataFrame.append({'PostalCode': PostalCode,\n                                      'Borough' : Borough,\n                                      'Neighborhood' : Neighbourhood}, ignore_index=True)\n            else:\n                ExistingPostNeigh = CheckPostalCode.iloc[0,2]\n                Neighbourhood = ExistingPostNeigh + \",\" + Neighbourhood\n                CanadaDataFrame.loc[CanadaDataFrame['PostalCode'] == PostalCode,['Neighborhood']] = Neighbourhood"
        }, 
        {
            "source": "### Final Shape of the Dataframe answer to the Question 1 of the assigment", 
            "cell_type": "markdown", 
            "metadata": {}
        }, 
        {
            "execution_count": 7, 
            "cell_type": "code", 
            "metadata": {
                "scrolled": true
            }, 
            "outputs": [
                {
                    "execution_count": 7, 
                    "metadata": {}, 
                    "data": {
                        "text/plain": "(103, 3)"
                    }, 
                    "output_type": "execute_result"
                }
            ], 
            "source": "CanadaDataFrame.shape\n "
        }, 
        {
            "execution_count": null, 
            "cell_type": "code", 
            "metadata": {}, 
            "outputs": [], 
            "source": ""
        }
    ], 
    "metadata": {
        "kernelspec": {
            "display_name": "Python 3.6", 
            "name": "python3", 
            "language": "python"
        }, 
        "language_info": {
            "mimetype": "text/x-python", 
            "nbconvert_exporter": "python", 
            "version": "3.6.8", 
            "name": "python", 
            "file_extension": ".py", 
            "pygments_lexer": "ipython3", 
            "codemirror_mode": {
                "version": 3, 
                "name": "ipython"
            }
        }
    }, 
    "nbformat": 4
}